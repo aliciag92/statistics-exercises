{
 "cells": [
  {
   "cell_type": "code",
   "execution_count": 1,
   "metadata": {},
   "outputs": [],
   "source": [
    "import numpy as np\n",
    "import pandas as pd"
   ]
  },
  {
   "cell_type": "code",
   "execution_count": 2,
   "metadata": {},
   "outputs": [
    {
     "data": {
      "text/plain": [
       "(array([5, 6, 6, ..., 5, 3, 1]), array([1, 5, 6, ..., 5, 5, 2]))"
      ]
     },
     "execution_count": 2,
     "metadata": {},
     "output_type": "execute_result"
    }
   ],
   "source": [
    "#1. How likely is it that you roll doubles when rolling two dice?\n",
    "\n",
    "first_die = np.random.choice([1, 2, 3, 4, 5, 6], size=100_000)\n",
    "second_die = np.random.choice([1, 2, 3, 4, 5, 6], size=100_000)\n",
    "\n",
    "first_die, second_die"
   ]
  },
  {
   "cell_type": "code",
   "execution_count": 3,
   "metadata": {},
   "outputs": [
    {
     "data": {
      "text/plain": [
       "0.1661"
      ]
     },
     "execution_count": 3,
     "metadata": {},
     "output_type": "execute_result"
    }
   ],
   "source": [
    "(first_die == second_die).mean()"
   ]
  },
  {
   "cell_type": "code",
   "execution_count": 4,
   "metadata": {},
   "outputs": [
    {
     "data": {
      "text/html": [
       "<div>\n",
       "<style scoped>\n",
       "    .dataframe tbody tr th:only-of-type {\n",
       "        vertical-align: middle;\n",
       "    }\n",
       "\n",
       "    .dataframe tbody tr th {\n",
       "        vertical-align: top;\n",
       "    }\n",
       "\n",
       "    .dataframe thead th {\n",
       "        text-align: right;\n",
       "    }\n",
       "</style>\n",
       "<table border=\"1\" class=\"dataframe\">\n",
       "  <thead>\n",
       "    <tr style=\"text-align: right;\">\n",
       "      <th></th>\n",
       "      <th>0</th>\n",
       "      <th>1</th>\n",
       "    </tr>\n",
       "  </thead>\n",
       "  <tbody>\n",
       "    <tr>\n",
       "      <th>0</th>\n",
       "      <td>2</td>\n",
       "      <td>3</td>\n",
       "    </tr>\n",
       "    <tr>\n",
       "      <th>1</th>\n",
       "      <td>4</td>\n",
       "      <td>5</td>\n",
       "    </tr>\n",
       "    <tr>\n",
       "      <th>2</th>\n",
       "      <td>6</td>\n",
       "      <td>6</td>\n",
       "    </tr>\n",
       "    <tr>\n",
       "      <th>3</th>\n",
       "      <td>3</td>\n",
       "      <td>1</td>\n",
       "    </tr>\n",
       "    <tr>\n",
       "      <th>4</th>\n",
       "      <td>1</td>\n",
       "      <td>1</td>\n",
       "    </tr>\n",
       "  </tbody>\n",
       "</table>\n",
       "</div>"
      ],
      "text/plain": [
       "   0  1\n",
       "0  2  3\n",
       "1  4  5\n",
       "2  6  6\n",
       "3  3  1\n",
       "4  1  1"
      ]
     },
     "execution_count": 4,
     "metadata": {},
     "output_type": "execute_result"
    }
   ],
   "source": [
    "#1 alternate sol:\n",
    "n_simulations = nrows = 10**5\n",
    "n_dice_rolled = ncols = 2\n",
    "\n",
    "rolls = np.random.choice([1, 2, 3, 4, 5, 6], nrows * ncols).reshape(nrows, ncols)\n",
    "\n",
    "df = pd.DataFrame(rolls)\n",
    "df.head(5)"
   ]
  },
  {
   "cell_type": "code",
   "execution_count": 5,
   "metadata": {},
   "outputs": [
    {
     "data": {
      "text/plain": [
       "0.16486"
      ]
     },
     "execution_count": 5,
     "metadata": {},
     "output_type": "execute_result"
    }
   ],
   "source": [
    "roll_doubles = (df[0] == df[1]).mean()\n",
    "roll_doubles"
   ]
  },
  {
   "cell_type": "code",
   "execution_count": 9,
   "metadata": {},
   "outputs": [
    {
     "data": {
      "text/plain": [
       "array([[ True,  True, False, ..., False,  True,  True],\n",
       "       [ True,  True, False, ..., False,  True,  True],\n",
       "       [False,  True, False, ..., False, False, False],\n",
       "       ...,\n",
       "       [False,  True, False, ..., False, False, False],\n",
       "       [False, False, False, ...,  True,  True,  True],\n",
       "       [False,  True, False, ...,  True, False, False]])"
      ]
     },
     "execution_count": 9,
     "metadata": {},
     "output_type": "execute_result"
    }
   ],
   "source": [
    "#2. If you flip 8 coins, what is the probability of getting exactly 3 heads? \n",
    "\n",
    "outcomes = ['heads', 'tails']\n",
    "n_simulations = 100_000\n",
    "n_trials = 8 #b/c 8 coins\n",
    "\n",
    "flips = np.random.choice(outcomes, size=(n_simulations, n_trials))\n",
    "(flips == 'heads')"
   ]
  },
  {
   "cell_type": "code",
   "execution_count": 11,
   "metadata": {},
   "outputs": [
    {
     "data": {
      "text/plain": [
       "array([5, 4, 3, ..., 1, 4, 4])"
      ]
     },
     "execution_count": 11,
     "metadata": {},
     "output_type": "execute_result"
    }
   ],
   "source": [
    "sum_of_flips = (flips == 'heads').sum(axis=1)\n",
    "sum_of_flips"
   ]
  },
  {
   "cell_type": "code",
   "execution_count": 12,
   "metadata": {},
   "outputs": [
    {
     "data": {
      "text/plain": [
       "0.21833"
      ]
     },
     "execution_count": 12,
     "metadata": {},
     "output_type": "execute_result"
    }
   ],
   "source": [
    "(sum_of_flips == 3).mean()"
   ]
  },
  {
   "cell_type": "code",
   "execution_count": 60,
   "metadata": {},
   "outputs": [
    {
     "data": {
      "text/plain": [
       "0.85584"
      ]
     },
     "execution_count": 60,
     "metadata": {},
     "output_type": "execute_result"
    }
   ],
   "source": [
    "#2a. What is the probability of getting more than 3 heads?\n",
    "(sum_of_flips >= 3).mean() #cause more than 3 heads also is supposed to incl #3\n",
    "\n",
    "#or (sum_of_flips > 2).mean()"
   ]
  },
  {
   "cell_type": "code",
   "execution_count": 15,
   "metadata": {},
   "outputs": [
    {
     "data": {
      "text/plain": [
       "array([[False, False],\n",
       "       [False, False],\n",
       "       [False, False],\n",
       "       ...,\n",
       "       [False,  True],\n",
       "       [False, False],\n",
       "       [False,  True]])"
      ]
     },
     "execution_count": 15,
     "metadata": {},
     "output_type": "execute_result"
    }
   ],
   "source": [
    "#3. There are approximitely 3 web development cohorts for every 1 data science cohort at Codeup. \n",
    "#Assuming that Codeup randomly selects an alumni to put on a billboard, \n",
    "#what are the odds that the two billboards I drive past both have data science students on them?\n",
    "\n",
    "outcomes = ['webdev', 'ds']\n",
    "\n",
    "drivebys = np.random.choice(outcomes, size = (100_000, 2), p = [0.75, 0.25])\n",
    "(drivebys == 'ds')"
   ]
  },
  {
   "cell_type": "code",
   "execution_count": 16,
   "metadata": {},
   "outputs": [
    {
     "data": {
      "text/plain": [
       "array([0, 0, 0, ..., 1, 0, 1])"
      ]
     },
     "execution_count": 16,
     "metadata": {},
     "output_type": "execute_result"
    }
   ],
   "source": [
    "sum_of_drivebys = (drivebys == 'ds').sum(axis=1)\n",
    "sum_of_drivebys"
   ]
  },
  {
   "cell_type": "code",
   "execution_count": 17,
   "metadata": {},
   "outputs": [
    {
     "data": {
      "text/plain": [
       "0.06213"
      ]
     },
     "execution_count": 17,
     "metadata": {},
     "output_type": "execute_result"
    }
   ],
   "source": [
    "(sum_of_drivebys == 2).mean()"
   ]
  },
  {
   "cell_type": "code",
   "execution_count": 18,
   "metadata": {},
   "outputs": [
    {
     "data": {
      "text/plain": [
       "0.06298"
      ]
     },
     "execution_count": 18,
     "metadata": {},
     "output_type": "execute_result"
    }
   ],
   "source": [
    "#3 alternate sol:\n",
    "billboard = np.random.choice(['webdevelopment', 'datascience'], size = (100_000,2), p =(0.75, 0.25)).reshape(100_000, 2)\n",
    "datascience_billboard = billboard ==['datascience', 'datascience']\n",
    "(datascience_billboard.sum(axis =1)==2).mean()"
   ]
  },
  {
   "cell_type": "code",
   "execution_count": 63,
   "metadata": {},
   "outputs": [
    {
     "data": {
      "text/plain": [
       "0.062441"
      ]
     },
     "execution_count": 63,
     "metadata": {},
     "output_type": "execute_result"
    }
   ],
   "source": [
    "#3 alternate sol:\n",
    "n_simulations = 1_000_000\n",
    "n_trials = 2\n",
    "data_science = 1\n",
    "web_dev = 0\n",
    "commutes = np.random.choice([data_science, web_dev], size=(n_simulations, n_trials), p=[0.25, 0.75])\n",
    "\n",
    "(commutes.sum(axis=1) == 2).mean()\n",
    "\n",
    "#[w,w,w,d] \n",
    "#3:1 are odds"
   ]
  },
  {
   "cell_type": "code",
   "execution_count": 68,
   "metadata": {},
   "outputs": [
    {
     "data": {
      "text/plain": [
       "array([[ 1.28919407,  5.9185422 ,  2.63209191,  5.59616377,  3.02128439],\n",
       "       [ 4.01606062, -0.20322166,  0.55748864,  2.53219754,  3.39160461],\n",
       "       [ 2.20174783,  3.65091154,  3.90303131,  3.76973104,  4.62833822],\n",
       "       ...,\n",
       "       [ 4.7745034 ,  3.12882615,  3.57851624,  2.45064386,  4.9552325 ],\n",
       "       [ 3.26698212,  3.20844945,  4.11742122,  2.05976174,  3.70096854],\n",
       "       [ 0.79133631,  3.65742705,  1.37410462,  3.00215352, -0.67649057]])"
      ]
     },
     "execution_count": 68,
     "metadata": {},
     "output_type": "execute_result"
    }
   ],
   "source": [
    "#4. Codeup students buy, on average, 3 poptart packages (+- 1.5) a day from the snack vending machine. \n",
    "#If on monday the machine is restocked with 17 poptart packages, how likely is it that I will be able to buy some poptarts on Friday afternoon?\n",
    "\n",
    "poptarts = np.random.normal(3, 1.5, size = (100_000, 5)) \n",
    "poptarts                #3 b/c avg, #1.5 b/c std,    #5 b/c Friday"
   ]
  },
  {
   "cell_type": "code",
   "execution_count": 69,
   "metadata": {},
   "outputs": [
    {
     "data": {
      "text/plain": [
       "array([18.45727635, 10.29412975, 18.15375994, ..., 18.88772215,\n",
       "       16.35358307,  8.14853094])"
      ]
     },
     "execution_count": 69,
     "metadata": {},
     "output_type": "execute_result"
    }
   ],
   "source": [
    "weekly_demand = poptarts.sum(axis=1)\n",
    "weekly_demand"
   ]
  },
  {
   "cell_type": "code",
   "execution_count": 75,
   "metadata": {},
   "outputs": [
    {
     "data": {
      "text/plain": [
       "0.72281"
      ]
     },
     "execution_count": 75,
     "metadata": {},
     "output_type": "execute_result"
    }
   ],
   "source": [
    "(weekly_demand < 17).mean()"
   ]
  },
  {
   "cell_type": "code",
   "execution_count": 73,
   "metadata": {},
   "outputs": [
    {
     "data": {
      "text/plain": [
       "0.72468"
      ]
     },
     "execution_count": 73,
     "metadata": {},
     "output_type": "execute_result"
    }
   ],
   "source": [
    "#4 alternate sol:\n",
    "pop_avg = 3\n",
    "pop_std = 1.5\n",
    "n_trials = 5\n",
    "n_simulations = 1_000_000\n",
    "\n",
    "simulated_consumed_poptarts = np.random.normal(pop_avg, pop_std, size=(n_simulations, n_trials))\n",
    "\n",
    "(simulated_consumed_poptarts.sum(axis=1) < 17).mean()\n",
    "#the prob that there will still be poptarts in the vending machine after 5 days is .72468"
   ]
  },
  {
   "cell_type": "code",
   "execution_count": 24,
   "metadata": {},
   "outputs": [
    {
     "data": {
      "text/plain": [
       "array([186.28706139, 185.48033948, 169.25632252, ..., 161.35874455,\n",
       "       188.46495135, 188.32022561])"
      ]
     },
     "execution_count": 24,
     "metadata": {},
     "output_type": "execute_result"
    }
   ],
   "source": [
    "#5. Compare Heights\n",
    "#5a. Men have an average height of 178 cm and standard deviation of 8cm.\n",
    "men = np.random.normal(178, 8, size=100_000)\n",
    "men"
   ]
  },
  {
   "cell_type": "code",
   "execution_count": 26,
   "metadata": {
    "scrolled": true
   },
   "outputs": [
    {
     "data": {
      "text/plain": [
       "array([163.85320156, 163.24111462, 172.87407106, ..., 171.94715829,\n",
       "       167.75509262, 182.42545118])"
      ]
     },
     "execution_count": 26,
     "metadata": {},
     "output_type": "execute_result"
    }
   ],
   "source": [
    "#5b. Women have a mean of 170, sd = 6cm.\n",
    "women = np.random.normal(170, 6, size=100_000)\n",
    "women"
   ]
  },
  {
   "cell_type": "code",
   "execution_count": 27,
   "metadata": {},
   "outputs": [
    {
     "data": {
      "text/plain": [
       "0.21365"
      ]
     },
     "execution_count": 27,
     "metadata": {},
     "output_type": "execute_result"
    }
   ],
   "source": [
    "#5c. If a man and woman are chosen at random, P(woman taller than man)?\n",
    "(women > men).mean()"
   ]
  },
  {
   "cell_type": "code",
   "execution_count": 76,
   "metadata": {},
   "outputs": [
    {
     "data": {
      "text/plain": [
       "0.211653"
      ]
     },
     "execution_count": 76,
     "metadata": {},
     "output_type": "execute_result"
    }
   ],
   "source": [
    "#5 alternate sol:\n",
    "men_avg = 178\n",
    "men_std = 8\n",
    "wmn_avg = 170\n",
    "wmn_std = 6\n",
    "\n",
    "s_men = np.random.normal(men_avg, men_std, 1_000_000)\n",
    "s_wmn = np.random.normal(wmn_avg, wmn_std, 1_000_000)\n",
    "\n",
    "(s_wmn > s_men).mean()"
   ]
  },
  {
   "cell_type": "code",
   "execution_count": 97,
   "metadata": {},
   "outputs": [
    {
     "data": {
      "text/plain": [
       "0.81686"
      ]
     },
     "execution_count": 97,
     "metadata": {},
     "output_type": "execute_result"
    }
   ],
   "source": [
    "#6a. When installing anaconda on a student's computer, there's a 1 in 250 chance that the download is corrupted and the installation fails. \n",
    "#What are the odds that after having 50 students download anaconda, no one has an installation issue?\n",
    "\n",
    "\n",
    "#1/250 = 0.004 prob that we will have an anaconda failure\n",
    "\n",
    "outcomes = [1, 0] #1=success, 0=failure\n",
    "anaconda_50 = np.random.choice(outcomes, size = (100_000, 50), p=[0.996, 0.004])\n",
    "(anaconda_50.sum(axis=1) == 50).mean()"
   ]
  },
  {
   "cell_type": "code",
   "execution_count": 98,
   "metadata": {},
   "outputs": [
    {
     "data": {
      "text/plain": [
       "0.81652"
      ]
     },
     "execution_count": 98,
     "metadata": {},
     "output_type": "execute_result"
    }
   ],
   "source": [
    "#6a alternate sol:\n",
    "anaconda_install = np.random.choice(['fail', 'success'], size = (100_000, 50), p = (1/250, 249/250))\n",
    "success_50 = ((anaconda_install == 'success').sum(axis=1) == 50).mean()\n",
    "success_50"
   ]
  },
  {
   "cell_type": "code",
   "execution_count": 99,
   "metadata": {},
   "outputs": [
    {
     "data": {
      "text/plain": [
       "0.67032"
      ]
     },
     "execution_count": 99,
     "metadata": {},
     "output_type": "execute_result"
    }
   ],
   "source": [
    "#6b.  100 students?\n",
    "outcomes = [1, 0] #1=success, 0=failure\n",
    "anaconda_100 = np.random.choice(outcomes, size = (100_000, 100), p=[0.996, 0.004])\n",
    "(anaconda_100.sum(axis=1) == 100).mean()"
   ]
  },
  {
   "cell_type": "code",
   "execution_count": 100,
   "metadata": {},
   "outputs": [
    {
     "data": {
      "text/plain": [
       "0.67247"
      ]
     },
     "execution_count": 100,
     "metadata": {},
     "output_type": "execute_result"
    }
   ],
   "source": [
    "#6b alternate sol\n",
    "anaconda_install = np.random.choice(['fail', 'success'], size = (100_000, 100), p = (1/250, 249/250))\n",
    "success_100 = ((anaconda_install == 'success').sum(axis=1) == 100).mean()\n",
    "success_100"
   ]
  },
  {
   "cell_type": "code",
   "execution_count": 85,
   "metadata": {},
   "outputs": [
    {
     "data": {
      "text/plain": [
       "0.451782"
      ]
     },
     "execution_count": 85,
     "metadata": {},
     "output_type": "execute_result"
    }
   ],
   "source": [
    "#6c. What is the probability that we observe an installation issue within the first 150 students that download anaconda?\n",
    "n_simulations = 1_000_000\n",
    "n_trials = 150\n",
    "conda_failure = 1\n",
    "great_success = 0\n",
    "\n",
    "attempted_class_installs = np.random.choice([conda_failure, great_success], size = (n_simulations, n_trials), p =[0.004, .996])\n",
    "(attempted_class_installs.sum(axis=1) > 0).mean()\n"
   ]
  },
  {
   "cell_type": "code",
   "execution_count": 87,
   "metadata": {},
   "outputs": [
    {
     "data": {
      "text/plain": [
       "0.45098"
      ]
     },
     "execution_count": 87,
     "metadata": {},
     "output_type": "execute_result"
    }
   ],
   "source": [
    "#6c alternate sol:\n",
    "anaconda_install = np.random.choice(['fail', 'success'], size = (100_000,150), p = (1/250, 249/250))\n",
    "install_issue = ((anaconda_install == 'fail').sum(axis=1) > 0).mean()\n",
    "install_issue"
   ]
  },
  {
   "cell_type": "code",
   "execution_count": 94,
   "metadata": {},
   "outputs": [
    {
     "data": {
      "text/plain": [
       "0.4548"
      ]
     },
     "execution_count": 94,
     "metadata": {},
     "output_type": "execute_result"
    }
   ],
   "source": [
    "#6c alternate sol:\n",
    "anaconda_install = np.random.choice(['fail', 'success'], size = (100_000, 150), p = (1/250, 249/250))\n",
    "install_issue = ((anaconda_install == 'success').sum(axis=1) < 150).mean()\n",
    "install_issue"
   ]
  },
  {
   "cell_type": "code",
   "execution_count": 102,
   "metadata": {},
   "outputs": [
    {
     "data": {
      "text/plain": [
       "0.16461"
      ]
     },
     "execution_count": 102,
     "metadata": {},
     "output_type": "execute_result"
    }
   ],
   "source": [
    "#6d. How likely is it that 450 students all download anaconda without an issue?\n",
    "outcomes = [1, 0] #1=success, 0=failure\n",
    "anaconda_450 = np.random.choice(outcomes, size = (100_000, 450), p=[0.996, 0.004])\n",
    "(anaconda_450.sum(axis=1) == 450).mean()"
   ]
  },
  {
   "cell_type": "code",
   "execution_count": 101,
   "metadata": {},
   "outputs": [
    {
     "data": {
      "text/plain": [
       "0.16676"
      ]
     },
     "execution_count": 101,
     "metadata": {},
     "output_type": "execute_result"
    }
   ],
   "source": [
    "#6d. \n",
    "anaconda_install = np.random.choice(['fail', 'success'], size = (100_000, 450), p = (1/250, 249/250))\n",
    "success_450 = ((anaconda_install == 'success').sum(axis=1) == 450).mean()\n",
    "success_450"
   ]
  },
  {
   "cell_type": "code",
   "execution_count": 79,
   "metadata": {},
   "outputs": [
    {
     "data": {
      "text/plain": [
       "0.026884"
      ]
     },
     "execution_count": 79,
     "metadata": {},
     "output_type": "execute_result"
    }
   ],
   "source": [
    "#7a. There's a 70% chance on any given day that there will be at least one food truck at Travis Park. \n",
    "#However, you haven't seen a food truck there in 3 days. \n",
    "#How unlikely is this?\n",
    "\n",
    "#3 days of wk have passed, w/ 2 more left, assuming a reg bsns wk\n",
    "\n",
    "n_simulations = 1_000_000\n",
    "n_trials = 3 #1st 3 days of the week (#of wkdays. 3 days you haven't seen a truck)\n",
    "food_truck = 1\n",
    "no_truck = 0\n",
    "\n",
    "lunch_days = np.random.choice([food_truck, no_truck], size=(n_simulations, n_trials), p=[0.7, 0.3])\n",
    "\n",
    "(lunch_days.sum(axis=1)==0).mean()"
   ]
  },
  {
   "cell_type": "code",
   "execution_count": 3,
   "metadata": {},
   "outputs": [
    {
     "data": {
      "text/plain": [
       "0.910053"
      ]
     },
     "execution_count": 3,
     "metadata": {},
     "output_type": "execute_result"
    }
   ],
   "source": [
    "#7b. How likely is it that a food truck will show up sometime this week?\n",
    "\n",
    "n_simulations = 1_000_000\n",
    "n_trials = 2 #b/c 7 days versus 5 days (last 2 days)(presence of food truck is not dependent on whether or not one showed up the prev day)\n",
    "food_truck =1\n",
    "no_truck = 0\n",
    "\n",
    "lunch_days = np.random.choice([food_truck, no_truck], size=(n_simulations, n_trials), p=[0.7, 0.3])\n",
    "(lunch_days.sum(axis=1)>0).mean() #food truck showed up within those 2 days"
   ]
  },
  {
   "cell_type": "code",
   "execution_count": 4,
   "metadata": {},
   "outputs": [
    {
     "data": {
      "text/plain": [
       "0.999766"
      ]
     },
     "execution_count": 4,
     "metadata": {},
     "output_type": "execute_result"
    }
   ],
   "source": [
    "#7b. How likely is it that a food truck will show up sometime this week?\n",
    "#another intepretation:\n",
    "food_truck_outcomes =  [1,0]\n",
    "\n",
    "food_truck_appearance_7 = np.random.choice(food_truck_outcomes,size=(n_simulations,7),p=[0.7,0.3])\n",
    "(food_truck_appearance_7.sum(axis=1) > 0).mean()"
   ]
  },
  {
   "cell_type": "code",
   "execution_count": 107,
   "metadata": {},
   "outputs": [
    {
     "data": {
      "text/plain": [
       "0.4974"
      ]
     },
     "execution_count": 107,
     "metadata": {},
     "output_type": "execute_result"
    }
   ],
   "source": [
    "#8. If 23 people are in the same room, what are the odds that two of them share a birthday? \n",
    "birthday = np.random.randint(1, 366, (10_000, 23))\n",
    "(pd.DataFrame(birthday).nunique(axis=1) < 23).mean()"
   ]
  },
  {
   "cell_type": "code",
   "execution_count": 5,
   "metadata": {},
   "outputs": [
    {
     "data": {
      "text/plain": [
       "array([[292, 185, 340, ..., 221,  99, 324],\n",
       "       [154, 344, 267, ..., 133, 127, 246],\n",
       "       [349, 359, 357, ..., 257, 324, 180],\n",
       "       ...,\n",
       "       [ 88,  59, 106, ..., 246,  69,  98],\n",
       "       [117, 215, 282, ..., 238,  79, 135],\n",
       "       [313, 193,  61, ..., 251, 176, 212]])"
      ]
     },
     "execution_count": 5,
     "metadata": {},
     "output_type": "execute_result"
    }
   ],
   "source": [
    "#alternate\n",
    "bday_outcomes = list(range(1,366))\n",
    "bdays = np.random.choice(bday_outcomes,size=(n_simulations,23))\n",
    "bdays"
   ]
  },
  {
   "cell_type": "code",
   "execution_count": 6,
   "metadata": {},
   "outputs": [
    {
     "data": {
      "text/plain": [
       "0         23\n",
       "1         21\n",
       "2         23\n",
       "3         23\n",
       "4         22\n",
       "          ..\n",
       "999995    21\n",
       "999996    23\n",
       "999997    22\n",
       "999998    22\n",
       "999999    23\n",
       "Length: 1000000, dtype: int64"
      ]
     },
     "execution_count": 6,
     "metadata": {},
     "output_type": "execute_result"
    }
   ],
   "source": [
    "bdays_df = pd.DataFrame(bdays)\n",
    "bdays_df.nunique(axis=1)"
   ]
  },
  {
   "cell_type": "code",
   "execution_count": 7,
   "metadata": {},
   "outputs": [
    {
     "data": {
      "text/plain": [
       "0.507254"
      ]
     },
     "execution_count": 7,
     "metadata": {},
     "output_type": "execute_result"
    }
   ],
   "source": [
    "(bdays_df.nunique(axis=1) < 23).mean()"
   ]
  },
  {
   "cell_type": "code",
   "execution_count": 106,
   "metadata": {},
   "outputs": [
    {
     "data": {
      "text/plain": [
       "0.4193"
      ]
     },
     "execution_count": 106,
     "metadata": {},
     "output_type": "execute_result"
    }
   ],
   "source": [
    "#8. What if it's 20 people? \n",
    "birthday = np.random.randint(1, 366, (10_000, 20))\n",
    "(pd.DataFrame(birthday).nunique(axis=1) < 20).mean()"
   ]
  },
  {
   "cell_type": "code",
   "execution_count": 8,
   "metadata": {},
   "outputs": [
    {
     "data": {
      "text/plain": [
       "0.40994"
      ]
     },
     "execution_count": 8,
     "metadata": {},
     "output_type": "execute_result"
    }
   ],
   "source": [
    "#alternate sol\n",
    "bdays_20 = np.random.choice(bday_outcomes, size = (n_simulations, 20))\n",
    "bdays_20_df = pd.DataFrame(bdays_20)\n",
    "(bdays_20_df.nunique(axis=1) < 20).mean()"
   ]
  },
  {
   "cell_type": "code",
   "execution_count": 108,
   "metadata": {},
   "outputs": [
    {
     "data": {
      "text/plain": [
       "0.8893"
      ]
     },
     "execution_count": 108,
     "metadata": {},
     "output_type": "execute_result"
    }
   ],
   "source": [
    "#8 40?\n",
    "birthday = np.random.randint(1, 366, (10_000, 40))\n",
    "(pd.DataFrame(birthday).nunique(axis=1) < 40).mean()"
   ]
  },
  {
   "cell_type": "code",
   "execution_count": 9,
   "metadata": {},
   "outputs": [
    {
     "data": {
      "text/plain": [
       "0.891475"
      ]
     },
     "execution_count": 9,
     "metadata": {},
     "output_type": "execute_result"
    }
   ],
   "source": [
    "#alternate sol\n",
    "bdays_40 = np.random.choice(bday_outcomes, size = (n_simulations, 40))\n",
    "bdays_40_df = pd.DataFrame(bdays_40)\n",
    "(bdays_40_df.nunique(axis=1) < 40).mean()"
   ]
  }
 ],
 "metadata": {
  "kernelspec": {
   "display_name": "Python 3",
   "language": "python",
   "name": "python3"
  },
  "language_info": {
   "codemirror_mode": {
    "name": "ipython",
    "version": 3
   },
   "file_extension": ".py",
   "mimetype": "text/x-python",
   "name": "python",
   "nbconvert_exporter": "python",
   "pygments_lexer": "ipython3",
   "version": "3.8.5"
  }
 },
 "nbformat": 4,
 "nbformat_minor": 4
}
