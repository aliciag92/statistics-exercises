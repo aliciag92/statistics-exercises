{
 "cells": [
  {
   "cell_type": "code",
   "execution_count": 1,
   "metadata": {},
   "outputs": [],
   "source": [
    "import numpy as np\n",
    "import pandas as pd"
   ]
  },
  {
   "cell_type": "markdown",
   "metadata": {},
   "source": [
    "# How to run a simulation with Python/Numpy/Pandas\n",
    "1. Figure out a way to represent our data\n",
    "2. Create a matrix of random data, rows = simulations, columns = trial\n",
    "    - Ex: rolling 2 dice 10,000 times means\n",
    "        - rows = 10,000\n",
    "        - col = 2 because we roll 2 dice each time\n",
    "3. Apply an aggregate function, row-wise to get the results of the simulation\n",
    "4. Apply a final aggregate to get our probability"
   ]
  },
  {
   "cell_type": "markdown",
   "metadata": {},
   "source": [
    "# Generating Random Numbers with Numpy\n",
    "The numpy.random module provides a number of functions for generating random numbers.\n",
    "\n",
    "- np.random.choice: selects random options from a list\n",
    "- np.random.uniform: generates numbers between a given lower and upper bound\n",
    "- np.random.random: generates numbers between 0 and 1 (floats)\n",
    "- np.random.randn: generates numbers from the standard normal distribution (bell curve)\n",
    "- np.random.normal: generates numbers from a normal distribution with a specified mean and standard deviation"
   ]
  },
  {
   "cell_type": "code",
   "execution_count": 3,
   "metadata": {},
   "outputs": [
    {
     "data": {
      "text/plain": [
       "array(['Tails', 'Heads', 'Tails', ..., 'Heads', 'Tails', 'Heads'],\n",
       "      dtype='<U5')"
      ]
     },
     "execution_count": 3,
     "metadata": {},
     "output_type": "execute_result"
    }
   ],
   "source": [
    "#what's the probability of flipping \"heads\" on a coin?\n",
    "\n",
    "#flip a coin 100,000 times and figure out the prob of flipping \"heads\"\n",
    "\n",
    "#to represent our data, make a list of outcomes:\n",
    "outcomes = [\"Heads\", \"Tails\"]\n",
    "number_of_simulations = 100_000\n",
    "\n",
    "flips = np.random.choice(outcomes, size=number_of_simulations)\n",
    "flips"
   ]
  },
  {
   "cell_type": "code",
   "execution_count": 5,
   "metadata": {},
   "outputs": [
    {
     "data": {
      "text/plain": [
       "array([False,  True, False, ...,  True, False,  True])"
      ]
     },
     "execution_count": 5,
     "metadata": {},
     "output_type": "execute_result"
    }
   ],
   "source": [
    "(flips == \"Heads\")\n",
    "#gives array of bools from the array above"
   ]
  },
  {
   "cell_type": "code",
   "execution_count": 6,
   "metadata": {},
   "outputs": [
    {
     "data": {
      "text/plain": [
       "0.50092"
      ]
     },
     "execution_count": 6,
     "metadata": {},
     "output_type": "execute_result"
    }
   ],
   "source": [
    "#After flipping 100 thousand coins, our experimental prob of flipping heads is:\n",
    "(flips == \"Heads\").mean()"
   ]
  },
  {
   "cell_type": "code",
   "execution_count": 8,
   "metadata": {},
   "outputs": [
    {
     "data": {
      "text/plain": [
       "0.8"
      ]
     },
     "execution_count": 8,
     "metadata": {},
     "output_type": "execute_result"
    }
   ],
   "source": [
    "outcomes = [\"Heads\", \"Tails\"]\n",
    "number_of_trials = 10\n",
    "\n",
    "flips = np.random.choice(outcomes, size=number_of_trials)\n",
    "(flips == \"Heads\").mean()"
   ]
  },
  {
   "cell_type": "code",
   "execution_count": 9,
   "metadata": {},
   "outputs": [
    {
     "data": {
      "text/plain": [
       "0.39"
      ]
     },
     "execution_count": 9,
     "metadata": {},
     "output_type": "execute_result"
    }
   ],
   "source": [
    "outcomes = [\"Heads\", \"Tails\"]\n",
    "number_of_trials = 100\n",
    "\n",
    "flips = np.random.choice(outcomes, size=number_of_trials)\n",
    "(flips == \"Heads\").mean()"
   ]
  },
  {
   "cell_type": "code",
   "execution_count": 10,
   "metadata": {},
   "outputs": [
    {
     "data": {
      "text/plain": [
       "0.500035"
      ]
     },
     "execution_count": 10,
     "metadata": {},
     "output_type": "execute_result"
    }
   ],
   "source": [
    "outcomes = [\"Heads\", \"Tails\"]\n",
    "number_of_trials = 1_000_000\n",
    "\n",
    "flips = np.random.choice(outcomes, size=number_of_trials)\n",
    "(flips == \"Heads\").mean()"
   ]
  },
  {
   "cell_type": "code",
   "execution_count": 11,
   "metadata": {},
   "outputs": [
    {
     "data": {
      "text/plain": [
       "0.1736"
      ]
     },
     "execution_count": 11,
     "metadata": {},
     "output_type": "execute_result"
    }
   ],
   "source": [
    "#Another example\n",
    "#what is prob of rolling a 5 on a 6 sided die?\n",
    "\n",
    "#stp 1, represent our data's outcomes\n",
    "outcomes = [1, 2, 3, 4, 5, 6]\n",
    "\n",
    "#stp 2, create the data\n",
    "n_simulationss = 10_000\n",
    "\n",
    "rolls=np.random.choice(outcomes, size=n_simulations)\n",
    "\n",
    "#what are the chances we roll a 5? the probability\n",
    "(rolls == 5).mean()"
   ]
  },
  {
   "cell_type": "code",
   "execution_count": 12,
   "metadata": {},
   "outputs": [
    {
     "data": {
      "text/plain": [
       "0.3393"
      ]
     },
     "execution_count": 12,
     "metadata": {},
     "output_type": "execute_result"
    }
   ],
   "source": [
    "#what is the probabiliyt we'll roll a 5 on a 6 sided die?\n",
    "(rolls >= 5).mean()"
   ]
  },
  {
   "cell_type": "code",
   "execution_count": 13,
   "metadata": {},
   "outputs": [
    {
     "data": {
      "text/plain": [
       "0.3323"
      ]
     },
     "execution_count": 13,
     "metadata": {},
     "output_type": "execute_result"
    }
   ],
   "source": [
    "#what is the prob of rolling less than a 3 (but not including 3)\n",
    "(rolls < 3).mean()"
   ]
  },
  {
   "cell_type": "code",
   "execution_count": 14,
   "metadata": {},
   "outputs": [
    {
     "data": {
      "text/plain": [
       "0.84"
      ]
     },
     "execution_count": 14,
     "metadata": {},
     "output_type": "execute_result"
    }
   ],
   "source": [
    "#what are the chances we roll something other than 3\n",
    "(rolls != 3).mean()"
   ]
  },
  {
   "cell_type": "markdown",
   "metadata": {},
   "source": [
    "## roll 2 dice at once\n",
    "\n",
    "1. Figure out a way to represent the data\n",
    "2. Create a matrix of random data, rows = simultations, col = trials\n",
    "3. Apply and aggregate row-wise to get the result of each simulation\n",
    "4. Apply a final aggregate to get our probability"
   ]
  },
  {
   "cell_type": "code",
   "execution_count": 17,
   "metadata": {},
   "outputs": [
    {
     "data": {
      "text/plain": [
       "array([[3, 2],\n",
       "       [5, 4],\n",
       "       [3, 4],\n",
       "       ...,\n",
       "       [1, 6],\n",
       "       [4, 4],\n",
       "       [3, 3]])"
      ]
     },
     "execution_count": 17,
     "metadata": {},
     "output_type": "execute_result"
    }
   ],
   "source": [
    "#what are the odds of rolling snake eyes on 2 dice\n",
    "\n",
    "#stp 1: represent outcomes\n",
    "outcomes = [1, 2, 3, 4, 5, 6]\n",
    "\n",
    "#stp2: create a matrix of random data \n",
    "#rows = simulations\n",
    "#cols = trial\n",
    "\n",
    "#simulation = # of times we run the experiment\n",
    "#trials = # of things in each experiment\n",
    "n_simulations = 1_000_000\n",
    "n_trials = 2 #b/c rolling 2 dice w/ each experiment\n",
    "\n",
    "#size argument can set our simulation and trial size\n",
    "rolls = np.random.choice(outcomes, size = (n_simulations, n_trials))\n",
    "rolls"
   ]
  },
  {
   "cell_type": "code",
   "execution_count": 18,
   "metadata": {},
   "outputs": [
    {
     "data": {
      "text/plain": [
       "array([5, 9, 7, ..., 7, 8, 6])"
      ]
     },
     "execution_count": 18,
     "metadata": {},
     "output_type": "execute_result"
    }
   ],
   "source": [
    "#stp3: apply aggregate row-wise\n",
    "rolls.sum(axis=1) #sum across the rows (axis=1)"
   ]
  },
  {
   "cell_type": "code",
   "execution_count": 19,
   "metadata": {},
   "outputs": [
    {
     "data": {
      "text/plain": [
       "array([5, 9, 7, ..., 7, 8, 6])"
      ]
     },
     "execution_count": 19,
     "metadata": {},
     "output_type": "execute_result"
    }
   ],
   "source": [
    "sum_of_rolls = rolls.sum(axis=1)\n",
    "sum_of_rolls"
   ]
  },
  {
   "cell_type": "code",
   "execution_count": 20,
   "metadata": {},
   "outputs": [],
   "source": [
    "#axis = 0 means sum up the entire col\n",
    "#if you don't put an axis, the default is 0\n",
    "#rolls.sum(axis=0)"
   ]
  },
  {
   "cell_type": "code",
   "execution_count": 21,
   "metadata": {},
   "outputs": [
    {
     "data": {
      "text/plain": [
       "0.027653"
      ]
     },
     "execution_count": 21,
     "metadata": {},
     "output_type": "execute_result"
    }
   ],
   "source": [
    "#stp4\n",
    "(sum_of_rolls == 2).mean()\n",
    "#adds up all the times that an experiment produces the sum of 2 (snake eyes)"
   ]
  },
  {
   "cell_type": "code",
   "execution_count": 22,
   "metadata": {},
   "outputs": [
    {
     "name": "stdout",
     "output_type": "stream",
     "text": [
      "Our theoretical probability of rolling snake eyes is 0.027777777777777776\n"
     ]
    }
   ],
   "source": [
    "theoretical = 1/6 * 1/6\n",
    "print(f\"Our theoretical probability of rolling snake eyes is {theoretical}\")"
   ]
  },
  {
   "cell_type": "code",
   "execution_count": 23,
   "metadata": {},
   "outputs": [
    {
     "data": {
      "text/plain": [
       "0.1682"
      ]
     },
     "execution_count": 23,
     "metadata": {},
     "output_type": "execute_result"
    }
   ],
   "source": [
    "#what is the probability of rolling a 7 on two dice\n",
    "#1+6, 2+5, 3+4, 4+3, 5+2, 6+1\n",
    "\n",
    "#stp 1 represent outcomes\n",
    "outcomes = [1, 2, 3, 4, 5, 6]\n",
    "\n",
    "#stp 2 create matrix of random outcomes, simulations = rows, trials = cols\n",
    "#size = (simulations, trials)\n",
    "#size = (experiments, number_of_dice per experiment)\n",
    "rolls = np.random.choice(outcomes, size = (10_000, 2))\n",
    "\n",
    "#stp 3 apply row-wise aggregate\n",
    "#axis=1 to apply sum to rows\n",
    "sum_of_rolls = rolls.sum(axis=1)\n",
    "\n",
    "(sum_of_rolls==7).mean()\n"
   ]
  },
  {
   "cell_type": "code",
   "execution_count": 24,
   "metadata": {},
   "outputs": [],
   "source": [
    "#possible sum outcomes from 2 dice\n",
    "x = [2, 3, 4, 5, 6, 7, 8, 9, 10, 11, 12] \n",
    "\n",
    "y = [(sum_of_rolls==n).mean() for n in sum_of_rolls]"
   ]
  },
  {
   "cell_type": "code",
   "execution_count": 26,
   "metadata": {},
   "outputs": [
    {
     "data": {
      "text/plain": [
       "array([ 8, 11,  9,  4, 10,  5, 11,  8,  5, 10])"
      ]
     },
     "execution_count": 26,
     "metadata": {},
     "output_type": "execute_result"
    }
   ],
   "source": [
    "sum_of_rolls[:10]"
   ]
  },
  {
   "cell_type": "code",
   "execution_count": 27,
   "metadata": {
    "scrolled": true
   },
   "outputs": [
    {
     "data": {
      "text/plain": [
       "[0.1315,\n",
       " 0.0552,\n",
       " 0.1116,\n",
       " 0.0893,\n",
       " 0.0813,\n",
       " 0.1109,\n",
       " 0.0552,\n",
       " 0.1315,\n",
       " 0.1109,\n",
       " 0.0813]"
      ]
     },
     "execution_count": 27,
     "metadata": {},
     "output_type": "execute_result"
    }
   ],
   "source": [
    "y[:10]"
   ]
  },
  {
   "cell_type": "code",
   "execution_count": null,
   "metadata": {},
   "outputs": [],
   "source": [
    "# What are the experimental probabilities of rolling each sum\n",
    "df = pd.DataFrame()\n",
    "# possible sum outcomes from 2 dice\n",
    "df[\"outcome\"] = [2, 3, 4, 5, 6, 7, 8, 9, 10, 11, 12]\n",
    "# produce the probability of seeing each sum\n",
    "y = [(sum_of_rolls == n).mean() for n in x]\n",
    "# set the probability to its own column\n",
    "df[\"probability\"] = pd.Series(y)\n",
    "print(\"Sum outcome of rolling 2 dice and the probability of seeing that outcome\"s)\n",
    "df"
   ]
  },
  {
   "cell_type": "markdown",
   "metadata": {},
   "source": [
    "## Setting our own probabilities"
   ]
  },
  {
   "cell_type": "code",
   "execution_count": 30,
   "metadata": {},
   "outputs": [
    {
     "data": {
      "text/plain": [
       "0.5486"
      ]
     },
     "execution_count": 30,
     "metadata": {},
     "output_type": "execute_result"
    }
   ],
   "source": [
    "#what's the probability of flipping \"heads\" on a coin?\n",
    "\n",
    "#flip a coin 100,000 times and figure out the prob of flipping \"heads\"\n",
    "\n",
    "#to represent our data, make a list of outcomes:\n",
    "outcomes = [\"Heads\", \"Tails\"]\n",
    "\n",
    "flips = np.random.choice(outcomes, size=(10_000, 1), p=[0.55, 0.45])\n",
    "\n",
    "(flips == \"Heads\").mean()"
   ]
  },
  {
   "cell_type": "code",
   "execution_count": 31,
   "metadata": {},
   "outputs": [
    {
     "data": {
      "text/plain": [
       "array([['Tails', 'Heads'],\n",
       "       ['Heads', 'Heads'],\n",
       "       ['Heads', 'Heads'],\n",
       "       ...,\n",
       "       ['Tails', 'Tails'],\n",
       "       ['Heads', 'Heads'],\n",
       "       ['Tails', 'Heads']], dtype='<U5')"
      ]
     },
     "execution_count": 31,
     "metadata": {},
     "output_type": "execute_result"
    }
   ],
   "source": [
    "#what are the chances of flipping 2 heads in a row?\n",
    "flips=np.random.choice(outcomes, size=(10_000, 2), p=[0.55, 0.45])\n",
    "flips"
   ]
  },
  {
   "cell_type": "code",
   "execution_count": 33,
   "metadata": {},
   "outputs": [
    {
     "data": {
      "text/plain": [
       "array([[0, 1],\n",
       "       [1, 1],\n",
       "       [1, 0],\n",
       "       ...,\n",
       "       [1, 1],\n",
       "       [0, 0],\n",
       "       [1, 0]])"
      ]
     },
     "execution_count": 33,
     "metadata": {},
     "output_type": "execute_result"
    }
   ],
   "source": [
    "#it'll be a bit easier to check for 2 heads if the head = 1 and tail = 0\n",
    "#might as well turn a binary in a binary\n",
    "\n",
    "#lets say heads is 1 and tails is 0\n",
    "outcomes = [1, 0]\n",
    "flips = np.random.choice(outcomes, size=(100_000, 2), p=[0.55, 0.45])\n",
    "flips"
   ]
  },
  {
   "cell_type": "code",
   "execution_count": 35,
   "metadata": {},
   "outputs": [
    {
     "data": {
      "text/plain": [
       "100000"
      ]
     },
     "execution_count": 35,
     "metadata": {},
     "output_type": "execute_result"
    }
   ],
   "source": [
    "num_of_heads = flips.sum(axis=1)\n",
    "#axis=1 to sum across the rows, so we have as many sums as we had pairs of coin flips\n",
    "len(num_of_heads)"
   ]
  },
  {
   "cell_type": "code",
   "execution_count": 36,
   "metadata": {},
   "outputs": [
    {
     "data": {
      "text/plain": [
       "array([1, 2, 1, ..., 2, 0, 1])"
      ]
     },
     "execution_count": 36,
     "metadata": {},
     "output_type": "execute_result"
    }
   ],
   "source": [
    "num_of_heads"
   ]
  },
  {
   "cell_type": "code",
   "execution_count": 37,
   "metadata": {},
   "outputs": [
    {
     "data": {
      "text/plain": [
       "array([False,  True, False, ...,  True, False, False])"
      ]
     },
     "execution_count": 37,
     "metadata": {},
     "output_type": "execute_result"
    }
   ],
   "source": [
    "(num_of_heads == 2)\n",
    "#bools line up w/ array from above"
   ]
  },
  {
   "cell_type": "code",
   "execution_count": 38,
   "metadata": {},
   "outputs": [
    {
     "data": {
      "text/plain": [
       "0.30198"
      ]
     },
     "execution_count": 38,
     "metadata": {},
     "output_type": "execute_result"
    }
   ],
   "source": [
    "(num_of_heads == 2).mean()"
   ]
  },
  {
   "cell_type": "code",
   "execution_count": 40,
   "metadata": {},
   "outputs": [
    {
     "data": {
      "text/plain": [
       "0.25065"
      ]
     },
     "execution_count": 40,
     "metadata": {},
     "output_type": "execute_result"
    }
   ],
   "source": [
    "#what if this is a fair coin?\n",
    "outcomes = [1,0]\n",
    "flips = np.random.choice(outcomes, size=(100_000, 2))\n",
    "num_of_heads = flips.sum(axis=1)\n",
    "(num_of_heads == 2).mean()"
   ]
  },
  {
   "cell_type": "code",
   "execution_count": 41,
   "metadata": {},
   "outputs": [
    {
     "data": {
      "text/plain": [
       "0.25"
      ]
     },
     "execution_count": 41,
     "metadata": {},
     "output_type": "execute_result"
    }
   ],
   "source": [
    "#theoretical probability of flipping 2 heads in a row\n",
    ".5 * .5"
   ]
  },
  {
   "cell_type": "code",
   "execution_count": 42,
   "metadata": {},
   "outputs": [],
   "source": [
    "# question mark gives docs for this function\n",
    "np.random.normal?"
   ]
  },
  {
   "cell_type": "code",
   "execution_count": 44,
   "metadata": {},
   "outputs": [
    {
     "data": {
      "text/plain": [
       "array([69, 47, 45, ..., 59, 41, 47])"
      ]
     },
     "execution_count": 44,
     "metadata": {},
     "output_type": "execute_result"
    }
   ],
   "source": [
    "#lets add some boolean logic to probabilities\n",
    "#let's say we have an average of 0 and a standard dev of 20\n",
    "numbers = np.random.randint(-50, 100, 100_000)\n",
    "numbers"
   ]
  },
  {
   "cell_type": "code",
   "execution_count": 45,
   "metadata": {},
   "outputs": [
    {
     "data": {
      "text/plain": [
       "0.33286"
      ]
     },
     "execution_count": 45,
     "metadata": {},
     "output_type": "execute_result"
    }
   ],
   "source": [
    "#based on these simulations, what is the probability that any number is negative?\n",
    "(numbers < 0).mean()"
   ]
  },
  {
   "cell_type": "code",
   "execution_count": 46,
   "metadata": {},
   "outputs": [
    {
     "data": {
      "text/plain": [
       "array([ True,  True,  True, ...,  True,  True,  True])"
      ]
     },
     "execution_count": 46,
     "metadata": {},
     "output_type": "execute_result"
    }
   ],
   "source": [
    "#what is the probability a number is odd?\n",
    "(numbers % 2 != 0)"
   ]
  },
  {
   "cell_type": "code",
   "execution_count": 50,
   "metadata": {},
   "outputs": [
    {
     "data": {
      "text/plain": [
       "0.16668"
      ]
     },
     "execution_count": 50,
     "metadata": {},
     "output_type": "execute_result"
    }
   ],
   "source": [
    "#what is the probability of a number being BOTH odd AND negative?\n",
    "is_negative = (numbers < 0)\n",
    "is_odd = (numbers % 2 != 0)\n",
    "\n",
    "(is_odd & is_negative).mean()"
   ]
  },
  {
   "cell_type": "code",
   "execution_count": 51,
   "metadata": {},
   "outputs": [
    {
     "data": {
      "text/plain": [
       "0.83332"
      ]
     },
     "execution_count": 51,
     "metadata": {},
     "output_type": "execute_result"
    }
   ],
   "source": [
    "#what is the probability of your number being even OR positive\n",
    "is_even = (numbers % 2 == 0)\n",
    "is_positive = (numbers > 0)\n",
    "(is_even | is_positive).mean()"
   ]
  },
  {
   "cell_type": "code",
   "execution_count": 52,
   "metadata": {},
   "outputs": [
    {
     "data": {
      "text/plain": [
       "(array([6, 4, 1, ..., 2, 2, 2]), array([5, 1, 1, ..., 3, 6, 3]))"
      ]
     },
     "execution_count": 52,
     "metadata": {},
     "output_type": "execute_result"
    }
   ],
   "source": [
    "#rolling 2 dice at a time, what is the prob of rolling an odd and then an even?\n",
    "\n",
    "#stp1: represent the world in pandas/numpy\n",
    "first_die = np.random.choice([1, 2, 3, 4, 5, 6], size = 100_000)\n",
    "second_die = np.random.choice([1, 2, 3, 4, 5, 6], size = 100_000)\n",
    "\n",
    "first_die, second_die"
   ]
  },
  {
   "cell_type": "code",
   "execution_count": 53,
   "metadata": {},
   "outputs": [
    {
     "data": {
      "text/plain": [
       "array([False, False,  True, ..., False, False, False])"
      ]
     },
     "execution_count": 53,
     "metadata": {},
     "output_type": "execute_result"
    }
   ],
   "source": [
    "#we need to represent the results of the first die as an array of booleans\n",
    "first_die % 2 != 0"
   ]
  },
  {
   "cell_type": "code",
   "execution_count": 55,
   "metadata": {},
   "outputs": [
    {
     "data": {
      "text/plain": [
       "array([False, False,  True, ..., False, False, False])"
      ]
     },
     "execution_count": 55,
     "metadata": {},
     "output_type": "execute_result"
    }
   ],
   "source": [
    "#give variable names and find first odd, second even\n",
    "first_die_is_odd = (first_die %2 != 0)\n",
    "second_die_is_even = (second_die %2 == 0)\n",
    "first_odd_second_even = (first_die %2 != 0 & second_die_is_even)\n",
    "first_odd_second_even"
   ]
  },
  {
   "cell_type": "code",
   "execution_count": 56,
   "metadata": {},
   "outputs": [
    {
     "data": {
      "text/plain": [
       "0.49832"
      ]
     },
     "execution_count": 56,
     "metadata": {},
     "output_type": "execute_result"
    }
   ],
   "source": [
    "first_odd_second_even.mean()"
   ]
  }
 ],
 "metadata": {
  "kernelspec": {
   "display_name": "Python 3",
   "language": "python",
   "name": "python3"
  },
  "language_info": {
   "codemirror_mode": {
    "name": "ipython",
    "version": 3
   },
   "file_extension": ".py",
   "mimetype": "text/x-python",
   "name": "python",
   "nbconvert_exporter": "python",
   "pygments_lexer": "ipython3",
   "version": "3.8.5"
  }
 },
 "nbformat": 4,
 "nbformat_minor": 4
}
