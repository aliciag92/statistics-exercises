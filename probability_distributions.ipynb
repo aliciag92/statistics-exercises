{
 "cells": [
  {
   "cell_type": "code",
   "execution_count": 1,
   "metadata": {},
   "outputs": [],
   "source": [
    "import matplotlib.pyplot as plt\n",
    "import numpy as np\n",
    "from scipy import stats\n",
    "from scipy.stats import norm, binom"
   ]
  },
  {
   "cell_type": "markdown",
   "metadata": {},
   "source": [
    "#### coin toss interview question:\n",
    "pretend youre a referee in a match, and have to flip a coin\n",
    "\n",
    "how do you figure out if a coin is fair or not?\n",
    "what if you find out your coin is unfair?\n",
    "\n",
    "P(H) = 1/4\n",
    "P(T) = 3/4\n",
    "\n",
    "you have no other option, but flip the coin over and over\n",
    "\n",
    "what would you do to make sure you have a fair coin toss?\n",
    "\n",
    "John Von Neuman: says to toss the coin twice\n",
    "\n",
    "P(H, H) = 1/4 * 1/4\n",
    "\n",
    "or\n",
    "\n",
    "P(H, T) = 1/4 * 3/4\n",
    "\n",
    "or \n",
    "\n",
    "P(T, H) = 3/4 * 1/4\n",
    "\n",
    "or \n",
    "\n",
    "P(T, T) = 3/4 * 3/4\n",
    "\n",
    "HT & TH have same probability\n",
    "so toss the coin twice.. if H comes before T, then 1 guy wins, if T comes before H, then the other guy wins.. if it is any other outcome, repeat process again. this guarantees a fair outcome"
   ]
  },
  {
   "cell_type": "code",
   "execution_count": 3,
   "metadata": {},
   "outputs": [
    {
     "data": {
      "text/plain": [
       "<BarContainer object of 10 artists>"
      ]
     },
     "execution_count": 3,
     "metadata": {},
     "output_type": "execute_result"
    },
    {
     "data": {
      "image/png": "[encoded data removed]",
      "text/plain": [
       "<Figure size 432x288 with 1 Axes>"
      ]
     },
     "metadata": {
      "needs_background": "light"
     },
     "output_type": "display_data"
    }
   ],
   "source": [
    "#1. A bank found that the average number of cars waiting during the noon hour at a drive-up window follows a Poisson distribution with a mean of 2 cars. \n",
    "# Make a chart of this distribution and answer these questions concerning the probability of cars waiting at the drive-up window.\n",
    "stats.poisson(2)\n",
    "\n",
    "x=np.arange(0,10)\n",
    "y=stats.poisson(2).pmf(x)\n",
    "plt.bar(x,y)"
   ]
  },
  {
   "cell_type": "code",
   "execution_count": 4,
   "metadata": {},
   "outputs": [
    {
     "data": {
      "text/plain": [
       "0.1353352832366127"
      ]
     },
     "execution_count": 4,
     "metadata": {},
     "output_type": "execute_result"
    }
   ],
   "source": [
    "#1a. What is the probability that no cars drive up in the noon hour?\n",
    "stats.poisson(2).pmf(0)\n",
    "\n",
    "#pmf b/c only interested in 0 cars "
   ]
  },
  {
   "cell_type": "code",
   "execution_count": 8,
   "metadata": {},
   "outputs": [
    {
     "data": {
      "text/plain": [
       "0.32332358381693654"
      ]
     },
     "execution_count": 8,
     "metadata": {},
     "output_type": "execute_result"
    }
   ],
   "source": [
    "#1b. What is the probability that 3 or more cars come through the drive through?\n",
    "stats.poisson(2).sf(2)\n",
    "\n",
    "#sf is exclusive (not incl the 2)"
   ]
  },
  {
   "cell_type": "code",
   "execution_count": 7,
   "metadata": {},
   "outputs": [
    {
     "data": {
      "text/plain": [
       "0.8646647167633873"
      ]
     },
     "execution_count": 7,
     "metadata": {},
     "output_type": "execute_result"
    }
   ],
   "source": [
    "#1c. How likely is it that the drive through gets at least 1 car?\n",
    "stats.poisson(2).sf(0)"
   ]
  },
  {
   "cell_type": "code",
   "execution_count": 42,
   "metadata": {},
   "outputs": [
    {
     "data": {
      "text/plain": [
       "0.8646647167633873"
      ]
     },
     "execution_count": 42,
     "metadata": {},
     "output_type": "execute_result"
    }
   ],
   "source": [
    "#alternate 1c:\n",
    "1-stats.poisson(2).pmf(0)"
   ]
  },
  {
   "cell_type": "code",
   "execution_count": 22,
   "metadata": {},
   "outputs": [
    {
     "data": {
      "text/plain": [
       "<BarContainer object of 5 artists>"
      ]
     },
     "execution_count": 22,
     "metadata": {},
     "output_type": "execute_result"
    },
    {
     "data": {
      "image/png": "[encoded data removed]",
      "text/plain": [
       "<Figure size 432x288 with 1 Axes>"
      ]
     },
     "metadata": {
      "needs_background": "light"
     },
     "output_type": "display_data"
    }
   ],
   "source": [
    "#2. Grades of State University graduates are normally distributed with a mean of 3.0 and a standard deviation of .3. Calculate the following:\n",
    "mean = 3\n",
    "sd = .3\n",
    "\n",
    "stats.norm(mean, sd)\n",
    "\n",
    "x=np.arange(0,5)\n",
    "y=stats.norm(mean, sd).pdf(x)\n",
    "plt.bar(x,y)"
   ]
  },
  {
   "cell_type": "code",
   "execution_count": 23,
   "metadata": {},
   "outputs": [
    {
     "data": {
      "text/plain": [
       "3.4934560880854417"
      ]
     },
     "execution_count": 23,
     "metadata": {},
     "output_type": "execute_result"
    }
   ],
   "source": [
    "#2a. What grade point average is required to be in the top 5% of the graduating class?\n",
    "stats.norm(mean, sd).ppf(.95)"
   ]
  },
  {
   "cell_type": "code",
   "execution_count": 25,
   "metadata": {},
   "outputs": [
    {
     "data": {
      "text/plain": [
       "3.4934560880854417"
      ]
     },
     "execution_count": 25,
     "metadata": {},
     "output_type": "execute_result"
    }
   ],
   "source": [
    "#2a alternate:\n",
    "stats.norm(mean, sd).isf(.05)"
   ]
  },
  {
   "cell_type": "code",
   "execution_count": 26,
   "metadata": {},
   "outputs": [
    {
     "data": {
      "text/plain": [
       "2.689069983151863"
      ]
     },
     "execution_count": 26,
     "metadata": {},
     "output_type": "execute_result"
    }
   ],
   "source": [
    "#2b. What GPA constitutes the bottom 15% of the class?\n",
    "stats.norm(mean, sd).ppf(.15)"
   ]
  },
  {
   "cell_type": "code",
   "execution_count": 44,
   "metadata": {},
   "outputs": [
    {
     "data": {
      "text/plain": [
       "2.689069983151863"
      ]
     },
     "execution_count": 44,
     "metadata": {},
     "output_type": "execute_result"
    }
   ],
   "source": [
    "#2b alternate\n",
    "stats.norm(mean, sd).isf(.85)"
   ]
  },
  {
   "cell_type": "code",
   "execution_count": 43,
   "metadata": {},
   "outputs": [
    {
     "data": {
      "text/plain": [
       "2.6890474471447727"
      ]
     },
     "execution_count": 43,
     "metadata": {},
     "output_type": "execute_result"
    }
   ],
   "source": [
    "#confirm w/ simulation method\n",
    "np.quantile(np.random.normal(3, 0.3, 10_000), 0.15)\n"
   ]
  },
  {
   "cell_type": "code",
   "execution_count": 29,
   "metadata": {},
   "outputs": [
    {
     "data": {
      "text/plain": [
       "(2.75, 2.84)"
      ]
     },
     "execution_count": 29,
     "metadata": {},
     "output_type": "execute_result"
    }
   ],
   "source": [
    "#2c. An eccentric alumnus left scholarship money for students in the third decile from the bottom of their class. \n",
    "# Determine the range of the third decile. Would a student with a 2.8 grade point average qualify for this scholarship?\n",
    "round(stats.norm(mean, sd).ppf(.2), 2), round(stats.norm(mean, sd).ppf(.3),2)\n",
    "\n",
    "#Yes, student w/ 2.8 gpa qualifies for this scholarship."
   ]
  },
  {
   "cell_type": "markdown",
   "metadata": {},
   "source": [
    "- 1st decile: 0-10 percentile\n",
    "- 2nd decile: 10-20 percentile\n",
    "- 3rd decile: 20-30 percentile"
   ]
  },
  {
   "cell_type": "code",
   "execution_count": 45,
   "metadata": {},
   "outputs": [
    {
     "data": {
      "text/plain": [
       "array([2.74751363, 2.84267985])"
      ]
     },
     "execution_count": 45,
     "metadata": {},
     "output_type": "execute_result"
    }
   ],
   "source": [
    "#alternate 2c:\n",
    "stats.norm(3, 0.3).ppf([0.2,0.3]) #yes 2.8 qualifies"
   ]
  },
  {
   "cell_type": "code",
   "execution_count": 46,
   "metadata": {},
   "outputs": [
    {
     "data": {
      "text/plain": [
       "array([2.75752069, 2.84978705])"
      ]
     },
     "execution_count": 46,
     "metadata": {},
     "output_type": "execute_result"
    }
   ],
   "source": [
    "#simulation method\n",
    "np.quantile(np.random.normal(3, 0.3, 10_000), [0.2, 0.3])"
   ]
  },
  {
   "cell_type": "code",
   "execution_count": 31,
   "metadata": {},
   "outputs": [
    {
     "data": {
      "text/plain": [
       "0.9522096477271853"
      ]
     },
     "execution_count": 31,
     "metadata": {},
     "output_type": "execute_result"
    }
   ],
   "source": [
    "#2d. If I have a GPA of 3.5, what percentile am I in?\n",
    "stats.norm(mean, sd).cdf(3.5)"
   ]
  },
  {
   "cell_type": "code",
   "execution_count": 48,
   "metadata": {},
   "outputs": [
    {
     "data": {
      "text/plain": [
       "95.41"
      ]
     },
     "execution_count": 48,
     "metadata": {},
     "output_type": "execute_result"
    }
   ],
   "source": [
    "#simulation method\n",
    "(np.random.normal(3, 0.3, 10_000) < 3.5).mean() *100 #to get percentile"
   ]
  },
  {
   "cell_type": "code",
   "execution_count": 33,
   "metadata": {},
   "outputs": [
    {
     "data": {
      "text/plain": [
       "0.1397582363130086"
      ]
     },
     "execution_count": 33,
     "metadata": {},
     "output_type": "execute_result"
    }
   ],
   "source": [
    "#3. A marketing website has an average click-through rate of 2%. \n",
    "# One day they observe 4326 visitors and 97 click-throughs. \n",
    "#How likely is it that this many people or more click through?\n",
    "\n",
    "n_trials = 4326\n",
    "prob = .02\n",
    "\n",
    "stats.binom(n_trials, prob).sf(96) \n",
    "#binomial dist b/c based on attempts vs successes\n",
    "#s/f b/c probability our random variable take on a value greater than a given point\n",
    "#(96) b/c you want to incl the 97 (clicks >=97)"
   ]
  },
  {
   "cell_type": "code",
   "execution_count": 49,
   "metadata": {},
   "outputs": [
    {
     "data": {
      "text/plain": [
       "0.1419"
      ]
     },
     "execution_count": 49,
     "metadata": {},
     "output_type": "execute_result"
    }
   ],
   "source": [
    "#simulation:\n",
    "#0 = no click, 1 = click\n",
    "clicks = np.random.choice([0,1], (10_000, 4326), p = [0.98, 0.02])\n",
    "(clicks.sum(axis = 1) >= 97).mean()"
   ]
  },
  {
   "cell_type": "code",
   "execution_count": 34,
   "metadata": {},
   "outputs": [
    {
     "data": {
      "text/plain": [
       "0.4528433576092388"
      ]
     },
     "execution_count": 34,
     "metadata": {},
     "output_type": "execute_result"
    }
   ],
   "source": [
    "#4. You are working on some statistics homework consisting of 100 questions where all of the answers are a probability rounded to the hundreths place. \n",
    "# Looking to save time, you put down random probabilities as the answer to each question.\n",
    "#What is the probability that at least one of your first 60 answers is correct?\n",
    "\n",
    "n_trials = 60\n",
    "p = 1/100 #or .01\n",
    "\n",
    "stats.binom(n_trials, p).sf(0)"
   ]
  },
  {
   "cell_type": "code",
   "execution_count": 50,
   "metadata": {},
   "outputs": [
    {
     "data": {
      "text/plain": [
       "0.4532"
      ]
     },
     "execution_count": 50,
     "metadata": {},
     "output_type": "execute_result"
    }
   ],
   "source": [
    "#simulation\n",
    "#0 = incorrect, 1 = correct\n",
    "answers = np.random.choice([0, 1], (10_000, 60), p =[0.99, 0.01])\n",
    "(answers.sum(axis=1) >= 1).mean()"
   ]
  },
  {
   "cell_type": "code",
   "execution_count": 51,
   "metadata": {},
   "outputs": [
    {
     "data": {
      "text/plain": [
       "0.8342199288437355"
      ]
     },
     "execution_count": 51,
     "metadata": {},
     "output_type": "execute_result"
    }
   ],
   "source": [
    "#5. The codeup staff tends to get upset when the student break area is not cleaned up. \n",
    "#Suppose that there's a 3% chance that any one student cleans the break area when they visit it, \n",
    "#and, on any given day, about 90% of the 3 active cohorts of 22 students visit the break area.\n",
    "#How likely is it that the break area gets cleaned up each day? \n",
    "\n",
    "students_in_break_area = (3 * 22 * .9)\n",
    "prob = .03\n",
    "\n",
    "stats.binom(students_in_break_area, prob).sf(0)"
   ]
  },
  {
   "cell_type": "code",
   "execution_count": 64,
   "metadata": {},
   "outputs": [
    {
     "data": {
      "text/plain": [
       "Text(0.5, 0, 'Number of times area is cleaned per day')"
      ]
     },
     "execution_count": 64,
     "metadata": {},
     "output_type": "execute_result"
    },
    {
     "data": {
      "image/png": "[encoded data removed]",
      "text/plain": [
       "<Figure size 432x288 with 1 Axes>"
      ]
     },
     "metadata": {
      "needs_background": "light"
     },
     "output_type": "display_data"
    }
   ],
   "source": [
    "#visualize:\n",
    "\n",
    "x = np.arange(0,9)\n",
    "y = stats.binom(students_in_break_area, prob).pmf(x)\n",
    "plt.bar(x,y, width = 0.9)\n",
    "plt.xlabel('Number of times area is cleaned per day')"
   ]
  },
  {
   "cell_type": "code",
   "execution_count": 52,
   "metadata": {},
   "outputs": [
    {
     "data": {
      "text/plain": [
       "0.026821436301629097"
      ]
     },
     "execution_count": 52,
     "metadata": {},
     "output_type": "execute_result"
    }
   ],
   "source": [
    "#5a. How likely is it that it goes two days without getting cleaned up?\n",
    "stats.binom(students_in_break_area*2, .03).pmf(0)\n",
    "\n",
    "#how many students would visit the are in 2 days? (n*2)\n",
    "#pmf(0) won't get cleaned"
   ]
  },
  {
   "cell_type": "code",
   "execution_count": 56,
   "metadata": {},
   "outputs": [
    {
     "data": {
      "text/plain": [
       "0.00011781621791055166"
      ]
     },
     "execution_count": 56,
     "metadata": {},
     "output_type": "execute_result"
    }
   ],
   "source": [
    "#5b. All week? (5 days not getting cleaned)\n",
    "stats.binom(students_in_break_area*5, .03).pmf(0)"
   ]
  },
  {
   "cell_type": "code",
   "execution_count": 57,
   "metadata": {},
   "outputs": [
    {
     "data": {
      "text/plain": [
       "0.00011781621791051577"
      ]
     },
     "execution_count": 57,
     "metadata": {},
     "output_type": "execute_result"
    }
   ],
   "source": [
    "#5b alternate\n",
    "\n",
    "1-stats.binom(students_in_break_area*5, .03).sf(0)"
   ]
  },
  {
   "cell_type": "code",
   "execution_count": 58,
   "metadata": {},
   "outputs": [
    {
     "data": {
      "text/plain": [
       "0.7976716190363569"
      ]
     },
     "execution_count": 58,
     "metadata": {},
     "output_type": "execute_result"
    }
   ],
   "source": [
    "#6. You want to get lunch at La Panaderia, but notice that the line is usually very long at lunchtime. \n",
    "#After several weeks of careful observation, you notice that the average number of people in line when your lunch break starts \n",
    "#is normally distributed with a mean of 15 and standard deviation of 3. \n",
    "#If it takes 2 minutes for each person to order, and 10 minutes from ordering to getting your food, \n",
    "#what is the likelihood that you have at least 15 minutes left to eat your food before you have to go back to class? \n",
    "#Assume you have one hour for lunch, and ignore travel time to and from La Panaderia.\n",
    "\n",
    "#stp 1: convert mean and std from ppl to 'minutes':\n",
    "#mean number of minutes = 15 * 2 = 30 mins\n",
    "#max time i can be in line w/out getting late to class = 60-15-10=35 mins\n",
    "\n",
    "stats.norm(30, 6).cdf(35)"
   ]
  },
  {
   "cell_type": "code",
   "execution_count": 59,
   "metadata": {},
   "outputs": [
    {
     "data": {
      "text/plain": [
       "0.79645"
      ]
     },
     "execution_count": 59,
     "metadata": {},
     "output_type": "execute_result"
    }
   ],
   "source": [
    "#simulation\n",
    "(np.random.normal(30, 6, 100_000) < 35).mean()"
   ]
  },
  {
   "cell_type": "code",
   "execution_count": 65,
   "metadata": {},
   "outputs": [],
   "source": [
    "#7. Connect to the employees database and find the average salary of current employees, along with the standard deviation. \n",
    "#For the following questions, calculate the answer based on modeling the employees salaries \n",
    "#with a normal distribution defined by the calculated mean and standard deviation \n",
    "#then compare this answer to the actual values present in the salaries dataset.\n",
    "\n",
    "import env\n",
    "import pandas as pd\n",
    "\n",
    "\n",
    "url = f'mysql+pymysql://{env.user}:{env.password}@{env.host}/employees'\n",
    "query = '''\n",
    "SELECT *\n",
    "FROM salaries s\n",
    "WHERE emp_no IN (\n",
    "    SELECT emp_no FROM dept_emp\n",
    "    WHERE to_date > NOW()\n",
    ") AND to_date > NOW()\n",
    "'''\n",
    "    \n",
    "salaries = pd.read_sql(query, url)"
   ]
  },
  {
   "cell_type": "code",
   "execution_count": 66,
   "metadata": {},
   "outputs": [
    {
     "data": {
      "text/plain": [
       "0.24385742480214423"
      ]
     },
     "execution_count": 66,
     "metadata": {},
     "output_type": "execute_result"
    }
   ],
   "source": [
    "#7a. What percent of employees earn less than 60,000?\n",
    "mean = salaries.salary.mean()\n",
    "sd = salaries.salary.std()\n",
    "\n",
    "stats.norm(mean, sd).cdf(60000)"
   ]
  },
  {
   "cell_type": "code",
   "execution_count": 67,
   "metadata": {},
   "outputs": [
    {
     "data": {
      "text/plain": [
       "0.9079118080019595"
      ]
     },
     "execution_count": 67,
     "metadata": {},
     "output_type": "execute_result"
    }
   ],
   "source": [
    "#7b. What percent of employees earn more than 95,000?\n",
    "stats.norm(mean, sd).cdf(95000)"
   ]
  },
  {
   "cell_type": "code",
   "execution_count": 68,
   "metadata": {},
   "outputs": [
    {
     "data": {
      "text/plain": [
       "array([0.34270292, 0.67776349])"
      ]
     },
     "execution_count": 68,
     "metadata": {},
     "output_type": "execute_result"
    }
   ],
   "source": [
    "#7c. What percent of employees earn between 65,000 and 80,000?\n",
    "stats.norm(mean, sd).cdf([65000, 80000])"
   ]
  },
  {
   "cell_type": "code",
   "execution_count": 69,
   "metadata": {},
   "outputs": [
    {
     "data": {
      "text/plain": [
       "array([0.33506057])"
      ]
     },
     "execution_count": 69,
     "metadata": {},
     "output_type": "execute_result"
    }
   ],
   "source": [
    "np.diff(stats.norm(mean, sd).cdf([65000, 80000]))"
   ]
  },
  {
   "cell_type": "code",
   "execution_count": 70,
   "metadata": {},
   "outputs": [
    {
     "data": {
      "text/plain": [
       "100484.64454102777"
      ]
     },
     "execution_count": 70,
     "metadata": {},
     "output_type": "execute_result"
    }
   ],
   "source": [
    "#7d. What do the top 5% of employees make?\n",
    "stats.norm(mean, sd).isf(.05)"
   ]
  },
  {
   "cell_type": "code",
   "execution_count": 71,
   "metadata": {},
   "outputs": [
    {
     "data": {
      "text/plain": [
       "104225.84999999998"
      ]
     },
     "execution_count": 71,
     "metadata": {},
     "output_type": "execute_result"
    }
   ],
   "source": [
    "#alternate:\n",
    "salaries.salary.quantile(.95)"
   ]
  },
  {
   "cell_type": "code",
   "execution_count": 72,
   "metadata": {},
   "outputs": [
    {
     "data": {
      "text/plain": [
       "<AxesSubplot:>"
      ]
     },
     "execution_count": 72,
     "metadata": {},
     "output_type": "execute_result"
    },
    {
     "data": {
      "image/png": "[encoded data removed]",
      "text/plain": [
       "<Figure size 432x288 with 1 Axes>"
      ]
     },
     "metadata": {
      "needs_background": "light"
     },
     "output_type": "display_data"
    }
   ],
   "source": [
    "#are these salaries really distributed normally?\n",
    "salaries.salary.hist(bins = 25, ec = 'k')\n",
    "#ec = edge color\n",
    "\n",
    "#a little skewed"
   ]
  }
 ],
 "metadata": {
  "kernelspec": {
   "display_name": "Python 3",
   "language": "python",
   "name": "python3"
  },
  "language_info": {
   "codemirror_mode": {
    "name": "ipython",
    "version": 3
   },
   "file_extension": ".py",
   "mimetype": "text/x-python",
   "name": "python",
   "nbconvert_exporter": "python",
   "pygments_lexer": "ipython3",
   "version": "3.8.5"
  }
 },
 "nbformat": 4,
 "nbformat_minor": 4
}
