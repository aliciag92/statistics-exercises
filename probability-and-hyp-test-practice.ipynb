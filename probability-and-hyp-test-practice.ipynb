{
 "cells": [
  {
   "cell_type": "code",
   "execution_count": 9,
   "metadata": {},
   "outputs": [],
   "source": [
    "import matplotlib.pyplot as plt\n",
    "import numpy as np\n",
    "from scipy import stats\n",
    "from scipy.stats import norm, binom\n",
    "import pandas as pd\n",
    "import seaborn as sn\n"
   ]
  },
  {
   "cell_type": "markdown",
   "metadata": {},
   "source": [
    "# Binomial Distribution\n",
    "\n",
    "- a discrete probability distribution that has several applications in business contexts. A random variable is said to follow a binomial distribution when:\n",
    "\n",
    "    a. It can have 2 outcomes: success and failure.\n",
    "    \n",
    "    b. Getting x successes out of n trials.\n",
    "    \n",
    "    c. Probability p is constant throughout the event."
   ]
  },
  {
   "cell_type": "markdown",
   "metadata": {},
   "source": [
    "### Problem statement: SREE CLOTHING is a clothing company selling clothes on a daily basis. It is observed that 10% of their customers return the items for many reasons. On a specific day, 20 customers purchased items from the shop. Calculate:\n",
    "1. The probability that exactly 5 customers will return the items.\n",
    "2. The probability that a maximum of 5 customers will return the items.\n",
    "3. The probability that more than 5 customers will return the items.\n",
    "4. The average number of customers who are likely to return the items and the variance and the standard deviation of the number of returns."
   ]
  },
  {
   "cell_type": "code",
   "execution_count": 6,
   "metadata": {},
   "outputs": [
    {
     "data": {
      "text/plain": [
       "0.03192136111995428"
      ]
     },
     "execution_count": 6,
     "metadata": {},
     "output_type": "execute_result"
    }
   ],
   "source": [
    "# The probability that exactly 5 customers will return the items.\n",
    "stats.binom(20, .10).pmf(5)"
   ]
  },
  {
   "cell_type": "code",
   "execution_count": 11,
   "metadata": {},
   "outputs": [
    {
     "data": {
      "text/plain": [
       "Text(0.5, 0, 'Number of items returned')"
      ]
     },
     "execution_count": 11,
     "metadata": {},
     "output_type": "execute_result"
    },
    {
     "data": {
      "image/png": "[encoded data removed]",
      "text/plain": [
       "<Figure size 432x288 with 1 Axes>"
      ]
     },
     "metadata": {
      "needs_background": "light"
     },
     "output_type": "display_data"
    }
   ],
   "source": [
    "#visualize:\n",
    "pmf_data = pd.DataFrame({'success' : range(0,21), 'pmf' : list(stats.binom.pmf(range(0,21), 20, 0.1) )})\n",
    "\n",
    "sn.barplot(x = pmf_data.success, y = pmf_data.pmf)\n",
    "plt.ylabel('pmf')\n",
    "plt.xlabel('Number of items returned')"
   ]
  },
  {
   "cell_type": "code",
   "execution_count": 7,
   "metadata": {},
   "outputs": [
    {
     "data": {
      "text/plain": [
       "0.988746865835491"
      ]
     },
     "execution_count": 7,
     "metadata": {},
     "output_type": "execute_result"
    }
   ],
   "source": [
    "# The probability that a maximum of 5 customers will return the items.\n",
    "stats.binom(20, .10).cdf(5)"
   ]
  },
  {
   "cell_type": "code",
   "execution_count": 8,
   "metadata": {},
   "outputs": [
    {
     "data": {
      "text/plain": [
       "0.011253134164509009"
      ]
     },
     "execution_count": 8,
     "metadata": {},
     "output_type": "execute_result"
    }
   ],
   "source": [
    "# The probability that more than 5 customers will return the items.\n",
    "stats.binom(20, .10).sf(5)\n",
    "\n",
    "#or\n",
    "#1 - stats.binom.cdf(5, 20, 0.1)\n"
   ]
  },
  {
   "cell_type": "code",
   "execution_count": 12,
   "metadata": {},
   "outputs": [
    {
     "name": "stdout",
     "output_type": "stream",
     "text": [
      "Average : 2.0 Variance : 1.8\n"
     ]
    }
   ],
   "source": [
    "#The average number of customers who are likely to return the items and the variance and the standard deviation of the number of returns.\n",
    "mean,var = stats.binom.stats(20, 0.1)\n",
    "print('Average :', mean, 'Variance :', var)"
   ]
  },
  {
   "cell_type": "markdown",
   "metadata": {},
   "source": [
    "# Poisson Distribution\n",
    "\n",
    "- It is used in calculating the number of events that may occur over a period of time and space. We need a rate of occurrence denoted by Λ (lambda)."
   ]
  },
  {
   "cell_type": "markdown",
   "metadata": {},
   "source": [
    "### Problem Statement: The number of cash withdrawals at an ATM follows a Poisson Distribution at 10 withdrawals per hour. Calculate:\n",
    "1. The probability that a maximum of 5 withdrawals will happen.\n",
    "2. The probability that a number of withdrawals over a period of 3 hours will exceed 30."
   ]
  },
  {
   "cell_type": "code",
   "execution_count": 13,
   "metadata": {},
   "outputs": [
    {
     "data": {
      "text/plain": [
       "0.06708596287903189"
      ]
     },
     "execution_count": 13,
     "metadata": {},
     "output_type": "execute_result"
    }
   ],
   "source": [
    "#The probability that a maximum of 5 withdrawals will happen.\n",
    "stats.poisson(10).cdf(5)"
   ]
  },
  {
   "cell_type": "code",
   "execution_count": 20,
   "metadata": {},
   "outputs": [
    {
     "data": {
      "text/plain": [
       "0.45164848742208863"
      ]
     },
     "execution_count": 20,
     "metadata": {},
     "output_type": "execute_result"
    }
   ],
   "source": [
    "#The probability that a number of withdrawals over a period of 3 hours will exceed 30.\n",
    "stats.poisson(30).sf(30)\n",
    "\n",
    "#The total number of events, in this case, is 30. Here the mean number of events is equal to the product of lambda and the time = 3*10 = 30."
   ]
  },
  {
   "cell_type": "code",
   "execution_count": 21,
   "metadata": {},
   "outputs": [
    {
     "data": {
      "text/plain": [
       "Text(0, 0.5, 'pmf')"
      ]
     },
     "execution_count": 21,
     "metadata": {},
     "output_type": "execute_result"
    },
    {
     "data": {
      "image/png": "[encoded data removed]",
      "text/plain": [
       "<Figure size 432x288 with 1 Axes>"
      ]
     },
     "metadata": {
      "needs_background": "light"
     },
     "output_type": "display_data"
    }
   ],
   "source": [
    "#visualize\n",
    "pmf_data_poisson = pd.DataFrame({'success' : range(0, 31), 'pmf' : list(stats.poisson.pmf(range(0,31), 10))})\n",
    "\n",
    "\n",
    "sn.barplot(x = pmf_data_poisson.success, y = pmf_data_poisson.pmf)\n",
    "plt.xlabel('number of withdrawals')\n",
    "plt.ylabel('pmf')"
   ]
  },
  {
   "cell_type": "markdown",
   "metadata": {},
   "source": [
    "# Exponential Distribution\n",
    "\n",
    "- It is a single parameter continuous probability distribution that is used for modeling the time-to-failure of electronic components or the radioactivity of chemical elements. The random variable here is continuous in nature and occurs independently at a constant average rate."
   ]
  },
  {
   "cell_type": "markdown",
   "metadata": {},
   "source": [
    "### Problem statement: The time to failure of a gadget follows an Exponential Distribution with a mean time between failures of 1000 hrs. Calculate:\n",
    "1. The probability that gadgets will fail before 1000 hrs.\n",
    "2. The probability that gadgets will not fail up to 2000 hrs.\n",
    "3. The time by which 10% of the gadget will fail."
   ]
  },
  {
   "cell_type": "markdown",
   "metadata": {},
   "source": [
    "# Normal Distribution\n",
    "\n",
    "- It is one of the most popular continuous distributions. It is used in naturally occurring measures like age, salary, sales volume, birth-weight, height, etc."
   ]
  },
  {
   "cell_type": "markdown",
   "metadata": {},
   "source": [
    "### Problem Statement: The heights of adult females are normally distributed with mean = 160cm and sd= 8cm.\n",
    "1. The probability that any randomly selected female has a height greater than 170cm.\n",
    "2. The probability that any randomly selected female has a height greater than 180cm provided she is tall, tall means height greater than 170cm.\n"
   ]
  },
  {
   "cell_type": "markdown",
   "metadata": {},
   "source": []
  }
 ],
 "metadata": {
  "kernelspec": {
   "display_name": "Python 3",
   "language": "python",
   "name": "python3"
  },
  "language_info": {
   "codemirror_mode": {
    "name": "ipython",
    "version": 3
   },
   "file_extension": ".py",
   "mimetype": "text/x-python",
   "name": "python",
   "nbconvert_exporter": "python",
   "pygments_lexer": "ipython3",
   "version": "3.8.5"
  }
 },
 "nbformat": 4,
 "nbformat_minor": 4
}
